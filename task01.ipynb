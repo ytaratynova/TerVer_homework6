{
 "cells": [
  {
   "cell_type": "code",
   "execution_count": 6,
   "id": "200db4b7",
   "metadata": {},
   "outputs": [],
   "source": [
    "# Известно, что генеральная совокупность распределена нормально\n",
    "# со средним квадратическим отклонением, равным 16.\n",
    "# Найти доверительный интервал для оценки математического ожидания с надежностью\n",
    "# 0.95,\n",
    "# если выборочная средняя M = 80, а объем выборки n = 256."
   ]
  },
  {
   "cell_type": "code",
   "execution_count": 7,
   "id": "ab0b09e0",
   "metadata": {},
   "outputs": [],
   "source": [
    "import math"
   ]
  },
  {
   "cell_type": "code",
   "execution_count": 8,
   "id": "3aff40de",
   "metadata": {},
   "outputs": [
    {
     "data": {
      "text/plain": [
       "81.96"
      ]
     },
     "execution_count": 8,
     "metadata": {},
     "output_type": "execute_result"
    }
   ],
   "source": [
    "#  x + z(alpha/2)*sigma/sqrt(n)\n",
    "x1 = 80 + 1.96*16/math.sqrt(256)\n",
    "x1\n"
   ]
  },
  {
   "cell_type": "code",
   "execution_count": 9,
   "id": "d75ce1a7",
   "metadata": {},
   "outputs": [
    {
     "data": {
      "text/plain": [
       "78.04"
      ]
     },
     "execution_count": 9,
     "metadata": {},
     "output_type": "execute_result"
    }
   ],
   "source": [
    "#  x - z(alpha/2)*sigma/sqrt(n)\n",
    "x2 = 80 - 1.96*16/math.sqrt(256)\n",
    "x2"
   ]
  },
  {
   "cell_type": "code",
   "execution_count": null,
   "id": "c580f8eb",
   "metadata": {},
   "outputs": [],
   "source": [
    "# Доверительный интервал для оценки математического ожидания с надежностью 0.95 => (78.04, 81.96)"
   ]
  }
 ],
 "metadata": {
  "kernelspec": {
   "display_name": "Python 3 (ipykernel)",
   "language": "python",
   "name": "python3"
  },
  "language_info": {
   "codemirror_mode": {
    "name": "ipython",
    "version": 3
   },
   "file_extension": ".py",
   "mimetype": "text/x-python",
   "name": "python",
   "nbconvert_exporter": "python",
   "pygments_lexer": "ipython3",
   "version": "3.10.9"
  }
 },
 "nbformat": 4,
 "nbformat_minor": 5
}

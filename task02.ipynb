{
 "cells": [
  {
   "cell_type": "code",
   "execution_count": 14,
   "id": "277a124b",
   "metadata": {},
   "outputs": [],
   "source": [
    "# В результате 10 независимых измерений некоторой величины X, выполненных с\n",
    "# одинаковой точностью,\n",
    "# получены опытные данные:\n",
    "# 6.9, 6.1, 6.2, 6.8, 7.5, 6.3, 6.4, 6.9, 6.7, 6.1\n",
    "# Предполагая, что результаты измерений подчинены нормальному закону распределения\n",
    "# вероятностей,\n",
    "# оценить истинное значение величины X при помощи доверительного интервала,\n",
    "# покрывающего это\n",
    "# значение с доверительной вероятностью 0,95."
   ]
  },
  {
   "cell_type": "code",
   "execution_count": 21,
   "id": "cf42c9ba",
   "metadata": {},
   "outputs": [],
   "source": [
    "import numpy as np\n",
    "from scipy import stats"
   ]
  },
  {
   "cell_type": "code",
   "execution_count": 22,
   "id": "5b99f31d",
   "metadata": {},
   "outputs": [],
   "source": [
    "x = np.array([6.9, 6.1, 6.2, 6.8, 7.5, 6.3, 6.4, 6.9, 6.7, 6.1])"
   ]
  },
  {
   "cell_type": "code",
   "execution_count": 23,
   "id": "2a26d094",
   "metadata": {},
   "outputs": [],
   "source": [
    "#  x + t(alpha/2)*sigma/sqrt(n)"
   ]
  },
  {
   "cell_type": "code",
   "execution_count": 24,
   "id": "b3187224",
   "metadata": {},
   "outputs": [
    {
     "data": {
      "text/plain": [
       "6.590000000000001"
      ]
     },
     "execution_count": 24,
     "metadata": {},
     "output_type": "execute_result"
    }
   ],
   "source": [
    "# найдем среднее арифметическое выборки x\n",
    "x_avg = np.mean(x)\n",
    "x_avg"
   ]
  },
  {
   "cell_type": "code",
   "execution_count": 25,
   "id": "e2093e4d",
   "metadata": {},
   "outputs": [
    {
     "data": {
      "text/plain": [
       "0.2032222222222223"
      ]
     },
     "execution_count": 25,
     "metadata": {},
     "output_type": "execute_result"
    }
   ],
   "source": [
    "# найдем несмещенную дисперсию для выборки x\n",
    "D = np.var(x, ddof=1)\n",
    "D"
   ]
  },
  {
   "cell_type": "code",
   "execution_count": 27,
   "id": "7d1fad97",
   "metadata": {},
   "outputs": [
    {
     "data": {
      "text/plain": [
       "2.2621571627409915"
      ]
     },
     "execution_count": 27,
     "metadata": {},
     "output_type": "execute_result"
    }
   ],
   "source": [
    "# найдем t(alpha/2)\n",
    "t = stats.t.ppf(0.975, 9)\n",
    "t"
   ]
  },
  {
   "cell_type": "code",
   "execution_count": 28,
   "id": "92534dce",
   "metadata": {},
   "outputs": [
    {
     "name": "stdout",
     "output_type": "stream",
     "text": [
      "Доверительный интервал (6.267515851415713, 6.912484148584288)\n"
     ]
    }
   ],
   "source": [
    "# доверительный интервал\n",
    "x1= x_avg - t*np.sqrt(D/10)\n",
    "x2= x_avg + t*np.sqrt(D/10)\n",
    "print(f'Доверительный интервал ({x1}, {x2})')"
   ]
  },
  {
   "cell_type": "code",
   "execution_count": null,
   "id": "b3437361",
   "metadata": {},
   "outputs": [],
   "source": []
  }
 ],
 "metadata": {
  "kernelspec": {
   "display_name": "Python 3 (ipykernel)",
   "language": "python",
   "name": "python3"
  },
  "language_info": {
   "codemirror_mode": {
    "name": "ipython",
    "version": 3
   },
   "file_extension": ".py",
   "mimetype": "text/x-python",
   "name": "python",
   "nbconvert_exporter": "python",
   "pygments_lexer": "ipython3",
   "version": "3.10.9"
  }
 },
 "nbformat": 4,
 "nbformat_minor": 5
}

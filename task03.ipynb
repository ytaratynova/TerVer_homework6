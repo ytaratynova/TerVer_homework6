{
 "cells": [
  {
   "cell_type": "code",
   "execution_count": null,
   "id": "112187ce",
   "metadata": {},
   "outputs": [],
   "source": [
    "# Рост дочерей 175, 167, 154, 174, 178, 148, 160, 167, 169, 170\n",
    "# Рост матерей 178, 165, 165, 173, 168, 155, 160, 164, 178, 175\n",
    "\n",
    "# Используя эти данные построить 95% доверительный интервал для разности среднего\n",
    "# роста родителей и детей.\n"
   ]
  },
  {
   "cell_type": "code",
   "execution_count": 10,
   "id": "00f543b4",
   "metadata": {},
   "outputs": [],
   "source": [
    "from scipy import stats\n",
    "import numpy as np"
   ]
  },
  {
   "cell_type": "code",
   "execution_count": 11,
   "id": "ff270992",
   "metadata": {},
   "outputs": [
    {
     "data": {
      "text/plain": [
       "166.2"
      ]
     },
     "execution_count": 11,
     "metadata": {},
     "output_type": "execute_result"
    }
   ],
   "source": [
    "# ищем среднее роста дочерей\n",
    "daughters = np.array([175, 167, 154, 174, 178, 148, 160, 167, 169, 170])\n",
    "x_d = np.mean(daughters)\n",
    "x_d\n"
   ]
  },
  {
   "cell_type": "code",
   "execution_count": 22,
   "id": "29fd7321",
   "metadata": {},
   "outputs": [
    {
     "data": {
      "text/plain": [
       "168.1"
      ]
     },
     "execution_count": 22,
     "metadata": {},
     "output_type": "execute_result"
    }
   ],
   "source": [
    "# ищем среднее роста матерей\n",
    "mothers = np.array([178, 165, 165, 173, 168, 155, 160, 164, 178, 175])\n",
    "x_m = np.mean(mothers)\n",
    "x_m"
   ]
  },
  {
   "cell_type": "code",
   "execution_count": 23,
   "id": "052f40fa",
   "metadata": {},
   "outputs": [
    {
     "data": {
      "text/plain": [
       "1.9000000000000057"
      ]
     },
     "execution_count": 23,
     "metadata": {},
     "output_type": "execute_result"
    }
   ],
   "source": [
    "# разность среднего\n",
    "delta = x_m - x_d\n",
    "delta"
   ]
  },
  {
   "cell_type": "code",
   "execution_count": 24,
   "id": "bc4f2a03",
   "metadata": {},
   "outputs": [
    {
     "data": {
      "text/plain": [
       "75.58333333333334"
      ]
     },
     "execution_count": 24,
     "metadata": {},
     "output_type": "execute_result"
    }
   ],
   "source": [
    "# ищем общую дисперсию:\n",
    "D = (np.var(daughters, ddof=1) + np.var(mothers, ddof =1))/2\n",
    "D"
   ]
  },
  {
   "cell_type": "code",
   "execution_count": 25,
   "id": "565fa63b",
   "metadata": {},
   "outputs": [
    {
     "data": {
      "text/plain": [
       "3.8880157750022915"
      ]
     },
     "execution_count": 25,
     "metadata": {},
     "output_type": "execute_result"
    }
   ],
   "source": [
    "# ищем стандартную ошибку\n",
    "s = np.sqrt(D/10 + D/10)\n",
    "s"
   ]
  },
  {
   "cell_type": "code",
   "execution_count": 26,
   "id": "66b0dd6b",
   "metadata": {},
   "outputs": [
    {
     "data": {
      "text/plain": [
       "2.10092204024096"
      ]
     },
     "execution_count": 26,
     "metadata": {},
     "output_type": "execute_result"
    }
   ],
   "source": [
    "# t(alpha/2):\n",
    "t = stats.t.ppf(0.975, 18)\n",
    "t"
   ]
  },
  {
   "cell_type": "code",
   "execution_count": 27,
   "id": "36940c21",
   "metadata": {},
   "outputs": [
    {
     "name": "stdout",
     "output_type": "stream",
     "text": [
      "Доверительный интервал (-6.268418034506846, 10.068418034506857)\n"
     ]
    }
   ],
   "source": [
    "# доверительный интервал\n",
    "x1 = delta - t*s\n",
    "x2 = delta + t*s\n",
    "print(f'Доверительный интервал ({x1}, {x2})')"
   ]
  },
  {
   "cell_type": "code",
   "execution_count": null,
   "id": "961ece53",
   "metadata": {},
   "outputs": [],
   "source": []
  }
 ],
 "metadata": {
  "kernelspec": {
   "display_name": "Python 3 (ipykernel)",
   "language": "python",
   "name": "python3"
  },
  "language_info": {
   "codemirror_mode": {
    "name": "ipython",
    "version": 3
   },
   "file_extension": ".py",
   "mimetype": "text/x-python",
   "name": "python",
   "nbconvert_exporter": "python",
   "pygments_lexer": "ipython3",
   "version": "3.10.9"
  }
 },
 "nbformat": 4,
 "nbformat_minor": 5
}
